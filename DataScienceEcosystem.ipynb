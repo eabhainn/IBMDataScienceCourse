{
 "cells": [
  {
   "cell_type": "markdown",
   "id": "3548c248-7e2c-4601-8350-fabf673bdac1",
   "metadata": {},
   "source": [
    "# Data Science Tools and Ecosystem"
   ]
  },
  {
   "cell_type": "markdown",
   "id": "3dfa2c39-95d8-4c9c-b4db-a95f45aaf7e2",
   "metadata": {},
   "source": [
    "In this notebook, Data Science Tools and Ecosystem are summarized"
   ]
  },
  {
   "cell_type": "markdown",
   "id": "0fe04817-5d62-4e79-b12f-3f1dd6d5a196",
   "metadata": {},
   "source": [
    "**Objectives:**\n",
    "* List popular languages for Data Science\n",
    "* List popular tools for Data Science\n",
    "* List popular libraries for Data Science\n",
    "* List popular development environments for Data Science"
   ]
  },
  {
   "cell_type": "markdown",
   "id": "f429eecb-eb3a-4e58-af1f-d330d8d3ce52",
   "metadata": {},
   "source": [
    "Some of the popular languages that Data Scientists use are:\n",
    "1. Python\n",
    "2. R\n",
    "3. SQL"
   ]
  },
  {
   "cell_type": "markdown",
   "id": "a9537993-7884-4d6f-9739-40881cf8a9e4",
   "metadata": {},
   "source": [
    "Some of the commonly used libraries used by Data Scientists include:\n",
    "1. caret\n",
    "2. ggplot2\n",
    "3. dplyr"
   ]
  },
  {
   "cell_type": "markdown",
   "id": "73783aab-70e1-462d-903f-646e1c40077f",
   "metadata": {},
   "source": [
    "|Data Science Tools|\n",
    "------------------\n",
    "|Jupyter Lab|\n",
    "|RStudio|\n",
    "|Spyder|"
   ]
  },
  {
   "cell_type": "markdown",
   "id": "4e5787e1-4337-44a3-96d8-548a80989816",
   "metadata": {},
   "source": [
    "### Below are a few examples of evaluating arithmetic expressions in Python"
   ]
  },
  {
   "cell_type": "code",
   "execution_count": 1,
   "id": "2a462d4d-0ac7-4127-8d65-0fd6fa282150",
   "metadata": {},
   "outputs": [
    {
     "data": {
      "text/plain": [
       "17"
      ]
     },
     "execution_count": 1,
     "metadata": {},
     "output_type": "execute_result"
    }
   ],
   "source": [
    "# This is a simple arithmetic expression to multiply then add integers\n",
    "(3*4)+5"
   ]
  },
  {
   "cell_type": "code",
   "execution_count": 2,
   "id": "fb3faf38-6dfb-4b13-9c0b-0f9cc375118d",
   "metadata": {},
   "outputs": [
    {
     "data": {
      "text/plain": [
       "3.3333333333333335"
      ]
     },
     "execution_count": 2,
     "metadata": {},
     "output_type": "execute_result"
    }
   ],
   "source": [
    "# This will convert 200 minutes to hours by dividing by 60\n",
    "200 / 60"
   ]
  },
  {
   "cell_type": "markdown",
   "id": "f5fe7a2d-ed85-4fbd-b802-6fa749d6255f",
   "metadata": {},
   "source": [
    "## Author\n",
    "Everett Abhainn"
   ]
  },
  {
   "cell_type": "code",
   "execution_count": null,
   "id": "71e5bf68-60e8-4775-8312-12a397979396",
   "metadata": {},
   "outputs": [],
   "source": []
  }
 ],
 "metadata": {
  "kernelspec": {
   "display_name": "Python 3 (ipykernel)",
   "language": "python",
   "name": "python3"
  },
  "language_info": {
   "codemirror_mode": {
    "name": "ipython",
    "version": 3
   },
   "file_extension": ".py",
   "mimetype": "text/x-python",
   "name": "python",
   "nbconvert_exporter": "python",
   "pygments_lexer": "ipython3",
   "version": "3.12.1"
  }
 },
 "nbformat": 4,
 "nbformat_minor": 5
}
